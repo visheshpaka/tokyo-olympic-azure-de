{
  "cells": [
    {
      "cell_type": "code",
      "execution_count": null,
      "metadata": {
        "application/vnd.databricks.v1+cell": {
          "cellMetadata": {
            "byteLimit": 2048000,
            "rowLimit": 10000
          },
          "inputWidgets": {},
          "nuid": "c76c1683-d905-4ae9-86f8-3729c50f213a",
          "showTitle": false,
          "title": ""
        },
        "id": "sRSl9VkgezeB"
      },
      "outputs": [],
      "source": [
        "from pyspark.sql.functions import col\n",
        "from pyspark.sql.types import IntegerType, DoubleType, BooleanType, DateType"
      ]
    },
    {
      "cell_type": "code",
      "execution_count": null,
      "metadata": {
        "application/vnd.databricks.v1+cell": {
          "cellMetadata": {
            "byteLimit": 2048000,
            "rowLimit": 10000
          },
          "inputWidgets": {},
          "nuid": "78d23d0b-1160-408a-8054-6c8dd40f052f",
          "showTitle": false,
          "title": ""
        },
        "id": "jjJj36JmezeD",
        "outputId": "d89dfb0f-0cd6-44f9-e46e-e68797f17a40"
      },
      "outputs": [
        {
          "name": "stdout",
          "output_type": "stream",
          "text": [
            "Out[5]: True"
          ]
        }
      ],
      "source": [
        "configs = {\"fs.azure.account.auth.type\": \"OAuth\",\n",
        "\"fs.azure.account.oauth.provider.type\": \"org.apache.hadoop.fs.azurebfs.oauth2.ClientCredsTokenProvider\",\n",
        "\"fs.azure.account.oauth2.client.id\": \"\",\n",
        "\"fs.azure.account.oauth2.client.secret\": '',\n",
        "\"fs.azure.account.oauth2.client.endpoint\": \"https://login.microsoftonline.com/tanent_id/oauth2/token\"}\n",
        "\n",
        "\n",
        "dbutils.fs.mount(\n",
        "source = \"abfss://tokyo-olympic-data@tokyoolympicdata.dfs.core.windows.net\", # contrainer@storageacc\n",
        "mount_point = \"/mnt/tokyoolympic\",\n",
        "extra_configs = configs)\n",
        ""
      ]
    },
    {
      "cell_type": "code",
      "execution_count": null,
      "metadata": {
        "application/vnd.databricks.v1+cell": {
          "cellMetadata": {
            "byteLimit": 2048000,
            "rowLimit": 10000
          },
          "inputWidgets": {},
          "nuid": "e4102f61-4816-46d5-abf4-488b29cfa366",
          "showTitle": false,
          "title": ""
        },
        "id": "aMsiXhvYezeF",
        "outputId": "149ce065-2205-4194-ddcc-6b3c36d69068"
      },
      "outputs": [
        {
          "data": {
            "text/html": [
              "<style scoped>\n",
              "  .table-result-container {\n",
              "    max-height: 300px;\n",
              "    overflow: auto;\n",
              "  }\n",
              "  table, th, td {\n",
              "    border: 1px solid black;\n",
              "    border-collapse: collapse;\n",
              "  }\n",
              "  th, td {\n",
              "    padding: 5px;\n",
              "  }\n",
              "  th {\n",
              "    text-align: left;\n",
              "  }\n",
              "</style><div class='table-result-container'><table class='table-result'><thead style='background-color: white'><tr><th>path</th><th>name</th><th>size</th><th>modificationTime</th></tr></thead><tbody><tr><td>dbfs:/mnt/tokyoolymic/raw-data/</td><td>raw-data/</td><td>0</td><td>1691562179000</td></tr><tr><td>dbfs:/mnt/tokyoolymic/transformed-data/</td><td>transformed-data/</td><td>0</td><td>1691562189000</td></tr></tbody></table></div>"
            ]
          },
          "metadata": {
            "application/vnd.databricks.v1+output": {
              "addedWidgets": {},
              "aggData": [],
              "aggError": "",
              "aggOverflow": false,
              "aggSchema": [],
              "aggSeriesLimitReached": false,
              "aggType": "",
              "arguments": {},
              "columnCustomDisplayInfos": {},
              "data": [
                [
                  "dbfs:/mnt/tokyoolymic/raw-data/",
                  "raw-data/",
                  0,
                  1691562179000
                ],
                [
                  "dbfs:/mnt/tokyoolymic/transformed-data/",
                  "transformed-data/",
                  0,
                  1691562189000
                ]
              ],
              "datasetInfos": [],
              "dbfsResultPath": null,
              "isJsonSchema": true,
              "metadata": {
                "isDbfsCommandResult": false
              },
              "overflow": false,
              "plotOptions": {
                "customPlotOptions": {},
                "displayType": "table",
                "pivotAggregation": null,
                "pivotColumns": null,
                "xColumns": null,
                "yColumns": null
              },
              "removedWidgets": [],
              "schema": [
                {
                  "metadata": "{}",
                  "name": "path",
                  "type": "\"string\""
                },
                {
                  "metadata": "{}",
                  "name": "name",
                  "type": "\"string\""
                },
                {
                  "metadata": "{}",
                  "name": "size",
                  "type": "\"long\""
                },
                {
                  "metadata": "{}",
                  "name": "modificationTime",
                  "type": "\"long\""
                }
              ],
              "type": "table"
            }
          },
          "output_type": "display_data"
        }
      ],
      "source": [
        "%fs\n",
        "ls \"/mnt/tokyoolymic\""
      ]
    },
    {
      "cell_type": "code",
      "execution_count": null,
      "metadata": {
        "application/vnd.databricks.v1+cell": {
          "cellMetadata": {
            "byteLimit": 2048000,
            "rowLimit": 10000
          },
          "inputWidgets": {},
          "nuid": "5e603a56-c274-4afd-8cbf-1d013b0c5d09",
          "showTitle": false,
          "title": ""
        },
        "id": "U3wqHb6UezeG",
        "outputId": "6fd9f0b5-b5c4-43f3-ab16-286b33849aa4"
      },
      "outputs": [
        {
          "data": {
            "text/html": [
              "\n",
              "            <div>\n",
              "                <p><b>SparkSession - hive</b></p>\n",
              "                \n",
              "        <div>\n",
              "            <p><b>SparkContext</b></p>\n",
              "\n",
              "            <p><a href=\"/?o=2723700013584314#setting/sparkui/0809-071007-ueyejyn5/driver-8670347769851812044\">Spark UI</a></p>\n",
              "\n",
              "            <dl>\n",
              "              <dt>Version</dt>\n",
              "                <dd><code>v3.3.2</code></dd>\n",
              "              <dt>Master</dt>\n",
              "                <dd><code>local[*, 4]</code></dd>\n",
              "              <dt>AppName</dt>\n",
              "                <dd><code>Databricks Shell</code></dd>\n",
              "            </dl>\n",
              "        </div>\n",
              "        \n",
              "            </div>\n",
              "        "
            ]
          },
          "metadata": {
            "application/vnd.databricks.v1+output": {
              "addedWidgets": {},
              "arguments": {},
              "data": "\n            <div>\n                <p><b>SparkSession - hive</b></p>\n                \n        <div>\n            <p><b>SparkContext</b></p>\n\n            <p><a href=\"/?o=2723700013584314#setting/sparkui/0809-071007-ueyejyn5/driver-8670347769851812044\">Spark UI</a></p>\n\n            <dl>\n              <dt>Version</dt>\n                <dd><code>v3.3.2</code></dd>\n              <dt>Master</dt>\n                <dd><code>local[*, 4]</code></dd>\n              <dt>AppName</dt>\n                <dd><code>Databricks Shell</code></dd>\n            </dl>\n        </div>\n        \n            </div>\n        ",
              "datasetInfos": [],
              "metadata": {},
              "removedWidgets": [],
              "textData": null,
              "type": "htmlSandbox"
            }
          },
          "output_type": "display_data"
        }
      ],
      "source": [
        "spark"
      ]
    },
    {
      "cell_type": "code",
      "execution_count": null,
      "metadata": {
        "application/vnd.databricks.v1+cell": {
          "cellMetadata": {
            "byteLimit": 2048000,
            "rowLimit": 10000
          },
          "inputWidgets": {},
          "nuid": "181fa770-c731-4991-946c-d3d5bc32400f",
          "showTitle": false,
          "title": ""
        },
        "id": "hyNrfsgCezeH"
      },
      "outputs": [],
      "source": [
        "athletes = spark.read.format(\"csv\").option(\"header\",\"true\").option(\"inferSchema\",\"true\").load(\"/mnt/tokyoolympic/raw-data/athletes.csv\")\n",
        "coaches = spark.read.format(\"csv\").option(\"header\",\"true\").option(\"inferSchema\",\"true\").load(\"/mnt/tokyoolympic/raw-data/coaches.csv\")\n",
        "entriesgender = spark.read.format(\"csv\").option(\"header\",\"true\").option(\"inferSchema\",\"true\").load(\"/mnt/tokyoolympic/raw-data/entriesgender.csv\")\n",
        "medals = spark.read.format(\"csv\").option(\"header\",\"true\").option(\"inferSchema\",\"true\").load(\"/mnt/tokyoolympic/raw-data/medals.csv\")\n",
        "teams = spark.read.format(\"csv\").option(\"header\",\"true\").option(\"inferSchema\",\"true\").load(\"/mnt/tokyoolympic/raw-data/teams.csv\")"
      ]
    },
    {
      "cell_type": "code",
      "execution_count": null,
      "metadata": {
        "application/vnd.databricks.v1+cell": {
          "cellMetadata": {
            "byteLimit": 2048000,
            "rowLimit": 10000
          },
          "inputWidgets": {},
          "nuid": "ce0247a7-d206-47ec-994f-80ceedd06721",
          "showTitle": false,
          "title": ""
        },
        "id": "7YYOeUdHezeI",
        "outputId": "f0296e3d-145c-4b63-b5da-79ea1aa0f94c"
      },
      "outputs": [
        {
          "name": "stdout",
          "output_type": "stream",
          "text": [
            "+--------------------+--------------------+-------------------+\n",
            "|          PersonName|             Country|         Discipline|\n",
            "+--------------------+--------------------+-------------------+\n",
            "|     AALERUD Katrine|              Norway|       Cycling Road|\n",
            "|         ABAD Nestor|               Spain|Artistic Gymnastics|\n",
            "|   ABAGNALE Giovanni|               Italy|             Rowing|\n",
            "|      ABALDE Alberto|               Spain|         Basketball|\n",
            "|       ABALDE Tamara|               Spain|         Basketball|\n",
            "|           ABALO Luc|              France|           Handball|\n",
            "|        ABAROA Cesar|               Chile|             Rowing|\n",
            "|       ABASS Abobakr|               Sudan|           Swimming|\n",
            "|    ABBASALI Hamideh|Islamic Republic ...|             Karate|\n",
            "|       ABBASOV Islam|          Azerbaijan|          Wrestling|\n",
            "|        ABBINGH Lois|         Netherlands|           Handball|\n",
            "|         ABBOT Emily|           Australia|Rhythmic Gymnastics|\n",
            "|       ABBOTT Monica|United States of ...|  Baseball/Softball|\n",
            "|ABDALLA Abubaker ...|               Qatar|          Athletics|\n",
            "|      ABDALLA Maryam|               Egypt|  Artistic Swimming|\n",
            "|      ABDALLAH Shahd|               Egypt|  Artistic Swimming|\n",
            "| ABDALRASOOL Mohamed|               Sudan|               Judo|\n",
            "|   ABDEL LATIF Radwa|               Egypt|           Shooting|\n",
            "|    ABDEL RAZEK Samy|               Egypt|           Shooting|\n",
            "|   ABDELAZIZ Abdalla|               Egypt|             Karate|\n",
            "+--------------------+--------------------+-------------------+\n",
            "only showing top 20 rows\n",
            "\n"
          ]
        }
      ],
      "source": [
        "athletes.show()"
      ]
    },
    {
      "cell_type": "code",
      "execution_count": null,
      "metadata": {
        "application/vnd.databricks.v1+cell": {
          "cellMetadata": {
            "byteLimit": 2048000,
            "rowLimit": 10000
          },
          "inputWidgets": {},
          "nuid": "d6e90e0a-cbce-4afb-8baf-857b3f47554d",
          "showTitle": false,
          "title": ""
        },
        "id": "QgrQy2akezeI",
        "outputId": "4334e8fd-9891-46ac-c91a-c51e7a54a09a"
      },
      "outputs": [
        {
          "name": "stdout",
          "output_type": "stream",
          "text": [
            "root\n",
            " |-- PersonName: string (nullable = true)\n",
            " |-- Country: string (nullable = true)\n",
            " |-- Discipline: string (nullable = true)\n",
            "\n"
          ]
        }
      ],
      "source": [
        "athletes.printSchema()"
      ]
    },
    {
      "cell_type": "code",
      "execution_count": null,
      "metadata": {
        "application/vnd.databricks.v1+cell": {
          "cellMetadata": {
            "byteLimit": 2048000,
            "rowLimit": 10000
          },
          "inputWidgets": {},
          "nuid": "26fd4755-4eb4-4117-b4f5-33b396184b3c",
          "showTitle": false,
          "title": ""
        },
        "id": "DT38s_jHezeJ",
        "outputId": "f0817477-2af5-4434-bd22-6a781fdb81d0"
      },
      "outputs": [
        {
          "name": "stdout",
          "output_type": "stream",
          "text": [
            "+--------------------+--------------------+-----------------+--------+\n",
            "|                Name|             Country|       Discipline|   Event|\n",
            "+--------------------+--------------------+-----------------+--------+\n",
            "|     ABDELMAGID Wael|               Egypt|         Football|    null|\n",
            "|           ABE Junya|               Japan|       Volleyball|    null|\n",
            "|       ABE Katsuhiko|               Japan|       Basketball|    null|\n",
            "|        ADAMA Cherif|       C�te d'Ivoire|         Football|    null|\n",
            "|          AGEBA Yuya|               Japan|       Volleyball|    null|\n",
            "|AIKMAN Siegfried ...|               Japan|           Hockey|     Men|\n",
            "|       AL SAADI Kais|             Germany|           Hockey|     Men|\n",
            "|       ALAMEDA Lonni|              Canada|Baseball/Softball|Softball|\n",
            "|     ALEKNO Vladimir|Islamic Republic ...|       Volleyball|     Men|\n",
            "|     ALEKSEEV Alexey|                 ROC|         Handball|   Women|\n",
            "|ALLER CARBALLO Ma...|               Spain|       Basketball|    null|\n",
            "|       ALSHEHRI Saad|        Saudi Arabia|         Football|     Men|\n",
            "|           ALY Kamal|               Egypt|         Football|    null|\n",
            "| AMAYA GAITAN Fabian|         Puerto Rico|       Basketball|    null|\n",
            "|    AMO AGUADO Pablo|               Spain|         Football|    null|\n",
            "|   ANDONOVSKI Vlatko|United States of ...|         Football|   Women|\n",
            "|        ANNAN Alyson|         Netherlands|           Hockey|   Women|\n",
            "|  ARNAU CREUS Xavier|               Japan|           Hockey|   Women|\n",
            "|       ARNOLD Graham|           Australia|         Football|     Men|\n",
            "|         AXNER Tomas|              Sweden|         Handball|   Women|\n",
            "+--------------------+--------------------+-----------------+--------+\n",
            "only showing top 20 rows\n",
            "\n"
          ]
        }
      ],
      "source": [
        "coaches.show()"
      ]
    },
    {
      "cell_type": "code",
      "execution_count": null,
      "metadata": {
        "application/vnd.databricks.v1+cell": {
          "cellMetadata": {
            "byteLimit": 2048000,
            "rowLimit": 10000
          },
          "inputWidgets": {},
          "nuid": "ab0d4dbf-2ade-43f5-b063-c61ea7098cc2",
          "showTitle": false,
          "title": ""
        },
        "id": "daJvPp-GezeK",
        "outputId": "69d3e918-35fc-469b-8515-0a8528b845f2"
      },
      "outputs": [
        {
          "name": "stdout",
          "output_type": "stream",
          "text": [
            "root\n",
            " |-- Name: string (nullable = true)\n",
            " |-- Country: string (nullable = true)\n",
            " |-- Discipline: string (nullable = true)\n",
            " |-- Event: string (nullable = true)\n",
            "\n"
          ]
        }
      ],
      "source": [
        "coaches.printSchema()"
      ]
    },
    {
      "cell_type": "code",
      "execution_count": null,
      "metadata": {
        "application/vnd.databricks.v1+cell": {
          "cellMetadata": {
            "byteLimit": 2048000,
            "rowLimit": 10000
          },
          "inputWidgets": {},
          "nuid": "2f729fb9-3809-434c-9d4d-88eaefc68adb",
          "showTitle": false,
          "title": ""
        },
        "id": "rVi8xZiQezeK",
        "outputId": "835a8f2d-bcf2-4adb-f045-be529e8faa41"
      },
      "outputs": [
        {
          "name": "stdout",
          "output_type": "stream",
          "text": [
            "+--------------------+------+----+-----+\n",
            "|          Discipline|Female|Male|Total|\n",
            "+--------------------+------+----+-----+\n",
            "|      3x3 Basketball|    32|  32|   64|\n",
            "|             Archery|    64|  64|  128|\n",
            "| Artistic Gymnastics|    98|  98|  196|\n",
            "|   Artistic Swimming|   105|   0|  105|\n",
            "|           Athletics|   969|1072| 2041|\n",
            "|           Badminton|    86|  87|  173|\n",
            "|   Baseball/Softball|    90| 144|  234|\n",
            "|          Basketball|   144| 144|  288|\n",
            "|    Beach Volleyball|    48|  48|   96|\n",
            "|              Boxing|   102| 187|  289|\n",
            "|        Canoe Slalom|    41|  41|   82|\n",
            "|        Canoe Sprint|   123| 126|  249|\n",
            "|Cycling BMX Frees...|    10|   9|   19|\n",
            "|  Cycling BMX Racing|    24|  24|   48|\n",
            "|Cycling Mountain ...|    38|  38|   76|\n",
            "|        Cycling Road|    70| 131|  201|\n",
            "|       Cycling Track|    90|  99|  189|\n",
            "|              Diving|    72|  71|  143|\n",
            "|          Equestrian|    73| 125|  198|\n",
            "|             Fencing|   107| 108|  215|\n",
            "+--------------------+------+----+-----+\n",
            "only showing top 20 rows\n",
            "\n"
          ]
        }
      ],
      "source": [
        "entriesgender.show()"
      ]
    },
    {
      "cell_type": "code",
      "execution_count": null,
      "metadata": {
        "application/vnd.databricks.v1+cell": {
          "cellMetadata": {
            "byteLimit": 2048000,
            "rowLimit": 10000
          },
          "inputWidgets": {},
          "nuid": "33b83c1b-f99c-46da-ba2e-5971f86c66f1",
          "showTitle": false,
          "title": ""
        },
        "id": "vbBsbVGaezeL",
        "outputId": "8c4991fd-db66-458a-d3b0-9ccfa5b3e878"
      },
      "outputs": [
        {
          "name": "stdout",
          "output_type": "stream",
          "text": [
            "root\n",
            " |-- Discipline: string (nullable = true)\n",
            " |-- Female: integer (nullable = true)\n",
            " |-- Male: integer (nullable = true)\n",
            " |-- Total: integer (nullable = true)\n",
            "\n"
          ]
        }
      ],
      "source": [
        "entriesgender.printSchema()"
      ]
    },
    {
      "cell_type": "code",
      "execution_count": null,
      "metadata": {
        "application/vnd.databricks.v1+cell": {
          "cellMetadata": {
            "byteLimit": 2048000,
            "rowLimit": 10000
          },
          "inputWidgets": {},
          "nuid": "d2c66e87-314b-4ab2-9e8c-bbe6cf321f2d",
          "showTitle": false,
          "title": ""
        },
        "id": "mqU-3t9hezeL",
        "outputId": "11850b24-ba40-4f48-f384-f073a7304431"
      },
      "outputs": [
        {
          "name": "stdout",
          "output_type": "stream",
          "text": [
            "+----+--------------------+----+------+------+-----+-------------+\n",
            "|Rank|        Team_Country|Gold|Silver|Bronze|Total|Rank by Total|\n",
            "+----+--------------------+----+------+------+-----+-------------+\n",
            "|   1|United States of ...|  39|    41|    33|  113|            1|\n",
            "|   2|People's Republic...|  38|    32|    18|   88|            2|\n",
            "|   3|               Japan|  27|    14|    17|   58|            5|\n",
            "|   4|       Great Britain|  22|    21|    22|   65|            4|\n",
            "|   5|                 ROC|  20|    28|    23|   71|            3|\n",
            "|   6|           Australia|  17|     7|    22|   46|            6|\n",
            "|   7|         Netherlands|  10|    12|    14|   36|            9|\n",
            "|   8|              France|  10|    12|    11|   33|           10|\n",
            "|   9|             Germany|  10|    11|    16|   37|            8|\n",
            "|  10|               Italy|  10|    10|    20|   40|            7|\n",
            "|  11|              Canada|   7|     6|    11|   24|           11|\n",
            "|  12|              Brazil|   7|     6|     8|   21|           12|\n",
            "|  13|         New Zealand|   7|     6|     7|   20|           13|\n",
            "|  14|                Cuba|   7|     3|     5|   15|           18|\n",
            "|  15|             Hungary|   6|     7|     7|   20|           13|\n",
            "|  16|   Republic of Korea|   6|     4|    10|   20|           13|\n",
            "|  17|              Poland|   4|     5|     5|   14|           19|\n",
            "|  18|      Czech Republic|   4|     4|     3|   11|           23|\n",
            "|  19|               Kenya|   4|     4|     2|   10|           25|\n",
            "|  20|              Norway|   4|     2|     2|    8|           29|\n",
            "+----+--------------------+----+------+------+-----+-------------+\n",
            "only showing top 20 rows\n",
            "\n"
          ]
        }
      ],
      "source": [
        "medals.show()"
      ]
    },
    {
      "cell_type": "code",
      "execution_count": null,
      "metadata": {
        "application/vnd.databricks.v1+cell": {
          "cellMetadata": {
            "byteLimit": 2048000,
            "rowLimit": 10000
          },
          "inputWidgets": {},
          "nuid": "a4fcce57-31ed-4aa8-9499-633d5bb2a4c7",
          "showTitle": false,
          "title": ""
        },
        "id": "g8oBPwLaezeL",
        "outputId": "150b1368-8ec8-44df-abc8-ae5ef72bc677"
      },
      "outputs": [
        {
          "name": "stdout",
          "output_type": "stream",
          "text": [
            "root\n",
            " |-- Rank: integer (nullable = true)\n",
            " |-- Team_Country: string (nullable = true)\n",
            " |-- Gold: integer (nullable = true)\n",
            " |-- Silver: integer (nullable = true)\n",
            " |-- Bronze: integer (nullable = true)\n",
            " |-- Total: integer (nullable = true)\n",
            " |-- Rank by Total: integer (nullable = true)\n",
            "\n"
          ]
        }
      ],
      "source": [
        "medals.printSchema()"
      ]
    },
    {
      "cell_type": "code",
      "execution_count": null,
      "metadata": {
        "application/vnd.databricks.v1+cell": {
          "cellMetadata": {
            "byteLimit": 2048000,
            "rowLimit": 10000
          },
          "inputWidgets": {},
          "nuid": "d05e8089-77c5-424c-aeb9-6c659dc8d20a",
          "showTitle": false,
          "title": ""
        },
        "id": "o7E8CI5tezeL",
        "outputId": "0aef6124-f96c-4cc5-9eb9-c299c04cd43f"
      },
      "outputs": [
        {
          "name": "stdout",
          "output_type": "stream",
          "text": [
            "+-------------+--------------+--------------------+------------+\n",
            "|     TeamName|    Discipline|             Country|       Event|\n",
            "+-------------+--------------+--------------------+------------+\n",
            "|      Belgium|3x3 Basketball|             Belgium|         Men|\n",
            "|        China|3x3 Basketball|People's Republic...|         Men|\n",
            "|        China|3x3 Basketball|People's Republic...|       Women|\n",
            "|       France|3x3 Basketball|              France|       Women|\n",
            "|        Italy|3x3 Basketball|               Italy|       Women|\n",
            "|        Japan|3x3 Basketball|               Japan|         Men|\n",
            "|        Japan|3x3 Basketball|               Japan|       Women|\n",
            "|       Latvia|3x3 Basketball|              Latvia|         Men|\n",
            "|     Mongolia|3x3 Basketball|            Mongolia|       Women|\n",
            "|  Netherlands|3x3 Basketball|         Netherlands|         Men|\n",
            "|       Poland|3x3 Basketball|              Poland|         Men|\n",
            "|          ROC|3x3 Basketball|                 ROC|         Men|\n",
            "|          ROC|3x3 Basketball|                 ROC|       Women|\n",
            "|      Romania|3x3 Basketball|             Romania|       Women|\n",
            "|       Serbia|3x3 Basketball|              Serbia|         Men|\n",
            "|United States|3x3 Basketball|United States of ...|       Women|\n",
            "|    Australia|       Archery|           Australia|  Men's Team|\n",
            "|    Australia|       Archery|           Australia|  Mixed Team|\n",
            "|   Bangladesh|       Archery|          Bangladesh|  Mixed Team|\n",
            "|      Belarus|       Archery|             Belarus|Women's Team|\n",
            "+-------------+--------------+--------------------+------------+\n",
            "only showing top 20 rows\n",
            "\n"
          ]
        }
      ],
      "source": [
        "teams.show()"
      ]
    },
    {
      "cell_type": "code",
      "execution_count": null,
      "metadata": {
        "application/vnd.databricks.v1+cell": {
          "cellMetadata": {
            "byteLimit": 2048000,
            "rowLimit": 10000
          },
          "inputWidgets": {},
          "nuid": "ffe5cb4c-cd58-4b1f-a4c5-66b41931d69a",
          "showTitle": false,
          "title": ""
        },
        "id": "zG-gNAHOezeM",
        "outputId": "e33979e2-e2fe-4af6-b34b-9834bf171029"
      },
      "outputs": [
        {
          "name": "stdout",
          "output_type": "stream",
          "text": [
            "root\n",
            " |-- TeamName: string (nullable = true)\n",
            " |-- Discipline: string (nullable = true)\n",
            " |-- Country: string (nullable = true)\n",
            " |-- Event: string (nullable = true)\n",
            "\n"
          ]
        }
      ],
      "source": [
        "teams.printSchema()"
      ]
    },
    {
      "cell_type": "code",
      "execution_count": null,
      "metadata": {
        "application/vnd.databricks.v1+cell": {
          "cellMetadata": {
            "byteLimit": 2048000,
            "rowLimit": 10000
          },
          "inputWidgets": {},
          "nuid": "a1dbbc4d-457b-4db2-aa1e-65047ccc9247",
          "showTitle": false,
          "title": ""
        },
        "id": "8SVh_TWRezeM",
        "outputId": "eb911c7c-8abb-49e0-8fef-33f19bb3ea5d"
      },
      "outputs": [
        {
          "name": "stdout",
          "output_type": "stream",
          "text": [
            "+--------------------+----+\n",
            "|        Team_Country|Gold|\n",
            "+--------------------+----+\n",
            "|United States of ...|  39|\n",
            "|People's Republic...|  38|\n",
            "|               Japan|  27|\n",
            "|       Great Britain|  22|\n",
            "|                 ROC|  20|\n",
            "|           Australia|  17|\n",
            "|         Netherlands|  10|\n",
            "|              France|  10|\n",
            "|             Germany|  10|\n",
            "|               Italy|  10|\n",
            "|              Canada|   7|\n",
            "|              Brazil|   7|\n",
            "|         New Zealand|   7|\n",
            "|                Cuba|   7|\n",
            "|             Hungary|   6|\n",
            "|   Republic of Korea|   6|\n",
            "|              Poland|   4|\n",
            "|      Czech Republic|   4|\n",
            "|               Kenya|   4|\n",
            "|              Norway|   4|\n",
            "+--------------------+----+\n",
            "only showing top 20 rows\n",
            "\n"
          ]
        }
      ],
      "source": [
        "# Find the top countries with the highest number of gold medals\n",
        "top_gold_medal_countries = medals.orderBy(\"Gold\", ascending=False).select(\"Team_Country\",\"Gold\").show()"
      ]
    },
    {
      "cell_type": "code",
      "execution_count": null,
      "metadata": {
        "application/vnd.databricks.v1+cell": {
          "cellMetadata": {
            "byteLimit": 2048000,
            "rowLimit": 10000
          },
          "inputWidgets": {},
          "nuid": "227067b1-3b5b-4a01-a3d1-5bf3f5972cd7",
          "showTitle": false,
          "title": ""
        },
        "id": "I0RVneg5ezeM",
        "outputId": "1d7c4c83-1f47-4d38-990a-903c9a4f2044"
      },
      "outputs": [
        {
          "name": "stdout",
          "output_type": "stream",
          "text": [
            "+--------------------+------+----+-----+-------------------+-------------------+\n",
            "|          Discipline|Female|Male|Total|         Avg_Female|           Avg_Male|\n",
            "+--------------------+------+----+-----+-------------------+-------------------+\n",
            "|      3x3 Basketball|    32|  32|   64|                0.5|                0.5|\n",
            "|             Archery|    64|  64|  128|                0.5|                0.5|\n",
            "| Artistic Gymnastics|    98|  98|  196|                0.5|                0.5|\n",
            "|   Artistic Swimming|   105|   0|  105|                1.0|                0.0|\n",
            "|           Athletics|   969|1072| 2041| 0.4747672709456149| 0.5252327290543851|\n",
            "|           Badminton|    86|  87|  173|0.49710982658959535| 0.5028901734104047|\n",
            "|   Baseball/Softball|    90| 144|  234|0.38461538461538464| 0.6153846153846154|\n",
            "|          Basketball|   144| 144|  288|                0.5|                0.5|\n",
            "|    Beach Volleyball|    48|  48|   96|                0.5|                0.5|\n",
            "|              Boxing|   102| 187|  289|0.35294117647058826| 0.6470588235294118|\n",
            "|        Canoe Slalom|    41|  41|   82|                0.5|                0.5|\n",
            "|        Canoe Sprint|   123| 126|  249| 0.4939759036144578| 0.5060240963855421|\n",
            "|Cycling BMX Frees...|    10|   9|   19| 0.5263157894736842|0.47368421052631576|\n",
            "|  Cycling BMX Racing|    24|  24|   48|                0.5|                0.5|\n",
            "|Cycling Mountain ...|    38|  38|   76|                0.5|                0.5|\n",
            "|        Cycling Road|    70| 131|  201| 0.3482587064676617| 0.6517412935323383|\n",
            "|       Cycling Track|    90|  99|  189|0.47619047619047616| 0.5238095238095238|\n",
            "|              Diving|    72|  71|  143| 0.5034965034965035| 0.4965034965034965|\n",
            "|          Equestrian|    73| 125|  198| 0.3686868686868687| 0.6313131313131313|\n",
            "|             Fencing|   107| 108|  215|0.49767441860465117| 0.5023255813953489|\n",
            "+--------------------+------+----+-----+-------------------+-------------------+\n",
            "only showing top 20 rows\n",
            "\n"
          ]
        }
      ],
      "source": [
        "# Calculate the average number of entries by gender for each discipline\n",
        "average_entries_by_gender = entriesgender.withColumn(\n",
        "    'Avg_Female', entriesgender['Female'] / entriesgender['Total']\n",
        ").withColumn(\n",
        "    'Avg_Male', entriesgender['Male'] / entriesgender['Total']\n",
        ")\n",
        "average_entries_by_gender.show()"
      ]
    },
    {
      "cell_type": "code",
      "execution_count": null,
      "metadata": {
        "application/vnd.databricks.v1+cell": {
          "cellMetadata": {
            "byteLimit": 2048000,
            "rowLimit": 10000
          },
          "inputWidgets": {},
          "nuid": "c489a24b-05e4-47c3-a329-9d5e5e1d85b3",
          "showTitle": false,
          "title": ""
        },
        "id": "3DQZWyfdezeM"
      },
      "outputs": [],
      "source": [
        "athletes.repartition(1).write.mode(\"overwrite\").option(\"header\",'true').csv(\"/mnt/tokyoolympic/transformed-data/athletes\")\n",
        "coaches.repartition(1).write.mode(\"overwrite\").option(\"header\",\"true\").csv(\"/mnt/tokyoolympic/transformed-data/coaches\")\n",
        "entriesgender.repartition(1).write.mode(\"overwrite\").option(\"header\",\"true\").csv(\"/mnt/tokyoolympic/transformed-data/entriesgender\")\n",
        "medals.repartition(1).write.mode(\"overwrite\").option(\"header\",\"true\").csv(\"/mnt/tokyoolympic/transformed-data/medals\")\n",
        "teams.repartition(1).write.mode(\"overwrite\").option(\"header\",\"true\").csv(\"/mnt/tokyoolympic/transformed-data/teams\")"
      ]
    }
  ],
  "metadata": {
    "application/vnd.databricks.v1+notebook": {
      "dashboards": [],
      "language": "python",
      "notebookMetadata": {
        "mostRecentlyExecutedCommandWithImplicitDF": {
          "commandId": 1201695797254400,
          "dataframes": [
            "_sqldf"
          ]
        },
        "pythonIndentUnit": 4
      },
      "notebookName": "Tokyo Olympic Transformation",
      "widgets": {}
    },
    "language_info": {
      "name": "python"
    },
    "colab": {
      "provenance": []
    }
  },
  "nbformat": 4,
  "nbformat_minor": 0
}